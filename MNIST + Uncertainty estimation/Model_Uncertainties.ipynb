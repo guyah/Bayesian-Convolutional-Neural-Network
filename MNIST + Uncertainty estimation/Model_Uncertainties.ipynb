{
 "cells": [
  {
   "cell_type": "markdown",
   "metadata": {},
   "source": [
    "# Imports"
   ]
  },
  {
   "cell_type": "code",
   "execution_count": 25,
   "metadata": {},
   "outputs": [],
   "source": [
    "import tensorflow as tf\n",
    "import tensorflow_probability as tfp\n",
    "import numpy as np\n",
    "import pandas as pd\n",
    "import matplotlib.pyplot as plt\n",
    "import seaborn as sns\n",
    "import time\n",
    "from sklearn.model_selection import train_test_split"
   ]
  },
  {
   "cell_type": "markdown",
   "metadata": {},
   "source": [
    "# Setting random seeds"
   ]
  },
  {
   "cell_type": "code",
   "execution_count": 26,
   "metadata": {},
   "outputs": [],
   "source": [
    "np.random.seed(5)\n",
    "tf.random.set_seed(5)"
   ]
  },
  {
   "cell_type": "markdown",
   "metadata": {},
   "source": [
    "# Load MNIST Dataset"
   ]
  },
  {
   "cell_type": "code",
   "execution_count": 27,
   "metadata": {},
   "outputs": [],
   "source": [
    "#We first load our data, and seek the distribution for its labels\n",
    "train = pd.read_csv(\"train.csv\")\n",
    "test = pd.read_csv(\"test.csv\")\n",
    "\n",
    "#Create our labels array\n",
    "Y_train = train[\"label\"]\n",
    "\n",
    "# Drop 'label' column\n",
    "X_train = train.drop(labels = [\"label\"],axis = 1) "
   ]
  },
  {
   "cell_type": "code",
   "execution_count": 28,
   "metadata": {},
   "outputs": [
    {
     "data": {
      "text/html": [
       "<div>\n",
       "<style scoped>\n",
       "    .dataframe tbody tr th:only-of-type {\n",
       "        vertical-align: middle;\n",
       "    }\n",
       "\n",
       "    .dataframe tbody tr th {\n",
       "        vertical-align: top;\n",
       "    }\n",
       "\n",
       "    .dataframe thead th {\n",
       "        text-align: right;\n",
       "    }\n",
       "</style>\n",
       "<table border=\"1\" class=\"dataframe\">\n",
       "  <thead>\n",
       "    <tr style=\"text-align: right;\">\n",
       "      <th></th>\n",
       "      <th>label</th>\n",
       "      <th>pixel0</th>\n",
       "      <th>pixel1</th>\n",
       "      <th>pixel2</th>\n",
       "      <th>pixel3</th>\n",
       "      <th>pixel4</th>\n",
       "      <th>pixel5</th>\n",
       "      <th>pixel6</th>\n",
       "      <th>pixel7</th>\n",
       "      <th>pixel8</th>\n",
       "      <th>...</th>\n",
       "      <th>pixel774</th>\n",
       "      <th>pixel775</th>\n",
       "      <th>pixel776</th>\n",
       "      <th>pixel777</th>\n",
       "      <th>pixel778</th>\n",
       "      <th>pixel779</th>\n",
       "      <th>pixel780</th>\n",
       "      <th>pixel781</th>\n",
       "      <th>pixel782</th>\n",
       "      <th>pixel783</th>\n",
       "    </tr>\n",
       "  </thead>\n",
       "  <tbody>\n",
       "    <tr>\n",
       "      <th>0</th>\n",
       "      <td>1</td>\n",
       "      <td>0</td>\n",
       "      <td>0</td>\n",
       "      <td>0</td>\n",
       "      <td>0</td>\n",
       "      <td>0</td>\n",
       "      <td>0</td>\n",
       "      <td>0</td>\n",
       "      <td>0</td>\n",
       "      <td>0</td>\n",
       "      <td>...</td>\n",
       "      <td>0</td>\n",
       "      <td>0</td>\n",
       "      <td>0</td>\n",
       "      <td>0</td>\n",
       "      <td>0</td>\n",
       "      <td>0</td>\n",
       "      <td>0</td>\n",
       "      <td>0</td>\n",
       "      <td>0</td>\n",
       "      <td>0</td>\n",
       "    </tr>\n",
       "    <tr>\n",
       "      <th>1</th>\n",
       "      <td>0</td>\n",
       "      <td>0</td>\n",
       "      <td>0</td>\n",
       "      <td>0</td>\n",
       "      <td>0</td>\n",
       "      <td>0</td>\n",
       "      <td>0</td>\n",
       "      <td>0</td>\n",
       "      <td>0</td>\n",
       "      <td>0</td>\n",
       "      <td>...</td>\n",
       "      <td>0</td>\n",
       "      <td>0</td>\n",
       "      <td>0</td>\n",
       "      <td>0</td>\n",
       "      <td>0</td>\n",
       "      <td>0</td>\n",
       "      <td>0</td>\n",
       "      <td>0</td>\n",
       "      <td>0</td>\n",
       "      <td>0</td>\n",
       "    </tr>\n",
       "    <tr>\n",
       "      <th>2</th>\n",
       "      <td>1</td>\n",
       "      <td>0</td>\n",
       "      <td>0</td>\n",
       "      <td>0</td>\n",
       "      <td>0</td>\n",
       "      <td>0</td>\n",
       "      <td>0</td>\n",
       "      <td>0</td>\n",
       "      <td>0</td>\n",
       "      <td>0</td>\n",
       "      <td>...</td>\n",
       "      <td>0</td>\n",
       "      <td>0</td>\n",
       "      <td>0</td>\n",
       "      <td>0</td>\n",
       "      <td>0</td>\n",
       "      <td>0</td>\n",
       "      <td>0</td>\n",
       "      <td>0</td>\n",
       "      <td>0</td>\n",
       "      <td>0</td>\n",
       "    </tr>\n",
       "    <tr>\n",
       "      <th>3</th>\n",
       "      <td>4</td>\n",
       "      <td>0</td>\n",
       "      <td>0</td>\n",
       "      <td>0</td>\n",
       "      <td>0</td>\n",
       "      <td>0</td>\n",
       "      <td>0</td>\n",
       "      <td>0</td>\n",
       "      <td>0</td>\n",
       "      <td>0</td>\n",
       "      <td>...</td>\n",
       "      <td>0</td>\n",
       "      <td>0</td>\n",
       "      <td>0</td>\n",
       "      <td>0</td>\n",
       "      <td>0</td>\n",
       "      <td>0</td>\n",
       "      <td>0</td>\n",
       "      <td>0</td>\n",
       "      <td>0</td>\n",
       "      <td>0</td>\n",
       "    </tr>\n",
       "    <tr>\n",
       "      <th>4</th>\n",
       "      <td>0</td>\n",
       "      <td>0</td>\n",
       "      <td>0</td>\n",
       "      <td>0</td>\n",
       "      <td>0</td>\n",
       "      <td>0</td>\n",
       "      <td>0</td>\n",
       "      <td>0</td>\n",
       "      <td>0</td>\n",
       "      <td>0</td>\n",
       "      <td>...</td>\n",
       "      <td>0</td>\n",
       "      <td>0</td>\n",
       "      <td>0</td>\n",
       "      <td>0</td>\n",
       "      <td>0</td>\n",
       "      <td>0</td>\n",
       "      <td>0</td>\n",
       "      <td>0</td>\n",
       "      <td>0</td>\n",
       "      <td>0</td>\n",
       "    </tr>\n",
       "    <tr>\n",
       "      <th>...</th>\n",
       "      <td>...</td>\n",
       "      <td>...</td>\n",
       "      <td>...</td>\n",
       "      <td>...</td>\n",
       "      <td>...</td>\n",
       "      <td>...</td>\n",
       "      <td>...</td>\n",
       "      <td>...</td>\n",
       "      <td>...</td>\n",
       "      <td>...</td>\n",
       "      <td>...</td>\n",
       "      <td>...</td>\n",
       "      <td>...</td>\n",
       "      <td>...</td>\n",
       "      <td>...</td>\n",
       "      <td>...</td>\n",
       "      <td>...</td>\n",
       "      <td>...</td>\n",
       "      <td>...</td>\n",
       "      <td>...</td>\n",
       "      <td>...</td>\n",
       "    </tr>\n",
       "    <tr>\n",
       "      <th>41995</th>\n",
       "      <td>0</td>\n",
       "      <td>0</td>\n",
       "      <td>0</td>\n",
       "      <td>0</td>\n",
       "      <td>0</td>\n",
       "      <td>0</td>\n",
       "      <td>0</td>\n",
       "      <td>0</td>\n",
       "      <td>0</td>\n",
       "      <td>0</td>\n",
       "      <td>...</td>\n",
       "      <td>0</td>\n",
       "      <td>0</td>\n",
       "      <td>0</td>\n",
       "      <td>0</td>\n",
       "      <td>0</td>\n",
       "      <td>0</td>\n",
       "      <td>0</td>\n",
       "      <td>0</td>\n",
       "      <td>0</td>\n",
       "      <td>0</td>\n",
       "    </tr>\n",
       "    <tr>\n",
       "      <th>41996</th>\n",
       "      <td>1</td>\n",
       "      <td>0</td>\n",
       "      <td>0</td>\n",
       "      <td>0</td>\n",
       "      <td>0</td>\n",
       "      <td>0</td>\n",
       "      <td>0</td>\n",
       "      <td>0</td>\n",
       "      <td>0</td>\n",
       "      <td>0</td>\n",
       "      <td>...</td>\n",
       "      <td>0</td>\n",
       "      <td>0</td>\n",
       "      <td>0</td>\n",
       "      <td>0</td>\n",
       "      <td>0</td>\n",
       "      <td>0</td>\n",
       "      <td>0</td>\n",
       "      <td>0</td>\n",
       "      <td>0</td>\n",
       "      <td>0</td>\n",
       "    </tr>\n",
       "    <tr>\n",
       "      <th>41997</th>\n",
       "      <td>7</td>\n",
       "      <td>0</td>\n",
       "      <td>0</td>\n",
       "      <td>0</td>\n",
       "      <td>0</td>\n",
       "      <td>0</td>\n",
       "      <td>0</td>\n",
       "      <td>0</td>\n",
       "      <td>0</td>\n",
       "      <td>0</td>\n",
       "      <td>...</td>\n",
       "      <td>0</td>\n",
       "      <td>0</td>\n",
       "      <td>0</td>\n",
       "      <td>0</td>\n",
       "      <td>0</td>\n",
       "      <td>0</td>\n",
       "      <td>0</td>\n",
       "      <td>0</td>\n",
       "      <td>0</td>\n",
       "      <td>0</td>\n",
       "    </tr>\n",
       "    <tr>\n",
       "      <th>41998</th>\n",
       "      <td>6</td>\n",
       "      <td>0</td>\n",
       "      <td>0</td>\n",
       "      <td>0</td>\n",
       "      <td>0</td>\n",
       "      <td>0</td>\n",
       "      <td>0</td>\n",
       "      <td>0</td>\n",
       "      <td>0</td>\n",
       "      <td>0</td>\n",
       "      <td>...</td>\n",
       "      <td>0</td>\n",
       "      <td>0</td>\n",
       "      <td>0</td>\n",
       "      <td>0</td>\n",
       "      <td>0</td>\n",
       "      <td>0</td>\n",
       "      <td>0</td>\n",
       "      <td>0</td>\n",
       "      <td>0</td>\n",
       "      <td>0</td>\n",
       "    </tr>\n",
       "    <tr>\n",
       "      <th>41999</th>\n",
       "      <td>9</td>\n",
       "      <td>0</td>\n",
       "      <td>0</td>\n",
       "      <td>0</td>\n",
       "      <td>0</td>\n",
       "      <td>0</td>\n",
       "      <td>0</td>\n",
       "      <td>0</td>\n",
       "      <td>0</td>\n",
       "      <td>0</td>\n",
       "      <td>...</td>\n",
       "      <td>0</td>\n",
       "      <td>0</td>\n",
       "      <td>0</td>\n",
       "      <td>0</td>\n",
       "      <td>0</td>\n",
       "      <td>0</td>\n",
       "      <td>0</td>\n",
       "      <td>0</td>\n",
       "      <td>0</td>\n",
       "      <td>0</td>\n",
       "    </tr>\n",
       "  </tbody>\n",
       "</table>\n",
       "<p>42000 rows × 785 columns</p>\n",
       "</div>"
      ],
      "text/plain": [
       "       label  pixel0  pixel1  pixel2  pixel3  pixel4  pixel5  pixel6  pixel7  \\\n",
       "0          1       0       0       0       0       0       0       0       0   \n",
       "1          0       0       0       0       0       0       0       0       0   \n",
       "2          1       0       0       0       0       0       0       0       0   \n",
       "3          4       0       0       0       0       0       0       0       0   \n",
       "4          0       0       0       0       0       0       0       0       0   \n",
       "...      ...     ...     ...     ...     ...     ...     ...     ...     ...   \n",
       "41995      0       0       0       0       0       0       0       0       0   \n",
       "41996      1       0       0       0       0       0       0       0       0   \n",
       "41997      7       0       0       0       0       0       0       0       0   \n",
       "41998      6       0       0       0       0       0       0       0       0   \n",
       "41999      9       0       0       0       0       0       0       0       0   \n",
       "\n",
       "       pixel8  ...  pixel774  pixel775  pixel776  pixel777  pixel778  \\\n",
       "0           0  ...         0         0         0         0         0   \n",
       "1           0  ...         0         0         0         0         0   \n",
       "2           0  ...         0         0         0         0         0   \n",
       "3           0  ...         0         0         0         0         0   \n",
       "4           0  ...         0         0         0         0         0   \n",
       "...       ...  ...       ...       ...       ...       ...       ...   \n",
       "41995       0  ...         0         0         0         0         0   \n",
       "41996       0  ...         0         0         0         0         0   \n",
       "41997       0  ...         0         0         0         0         0   \n",
       "41998       0  ...         0         0         0         0         0   \n",
       "41999       0  ...         0         0         0         0         0   \n",
       "\n",
       "       pixel779  pixel780  pixel781  pixel782  pixel783  \n",
       "0             0         0         0         0         0  \n",
       "1             0         0         0         0         0  \n",
       "2             0         0         0         0         0  \n",
       "3             0         0         0         0         0  \n",
       "4             0         0         0         0         0  \n",
       "...         ...       ...       ...       ...       ...  \n",
       "41995         0         0         0         0         0  \n",
       "41996         0         0         0         0         0  \n",
       "41997         0         0         0         0         0  \n",
       "41998         0         0         0         0         0  \n",
       "41999         0         0         0         0         0  \n",
       "\n",
       "[42000 rows x 785 columns]"
      ]
     },
     "execution_count": 28,
     "metadata": {},
     "output_type": "execute_result"
    }
   ],
   "source": [
    "train"
   ]
  },
  {
   "cell_type": "markdown",
   "metadata": {},
   "source": [
    "# Train val test split"
   ]
  },
  {
   "cell_type": "code",
   "execution_count": 29,
   "metadata": {},
   "outputs": [],
   "source": [
    "X_train = X_train / 255.0\n",
    "X_train = X_train.values.reshape(-1,28,28,1)\n",
    "Y_train = tf.keras.utils.to_categorical(Y_train, num_classes = 10)\n",
    "X_train, X_test, Y_train, Y_test = train_test_split(X_train, Y_train, test_size = 0.90, random_state=42)\n",
    "X_test, X_val, Y_test, Y_val = train_test_split(X_test, Y_test, test_size = 0.9, random_state=42)"
   ]
  },
  {
   "cell_type": "code",
   "execution_count": 30,
   "metadata": {},
   "outputs": [
    {
     "name": "stdout",
     "output_type": "stream",
     "text": [
      "(4200, 28, 28, 1)\n",
      "(3780, 28, 28, 1)\n",
      "(34020, 28, 28, 1)\n"
     ]
    }
   ],
   "source": [
    "print(X_train.shape)\n",
    "print(X_test.shape)\n",
    "print(X_val.shape)"
   ]
  },
  {
   "cell_type": "code",
   "execution_count": 31,
   "metadata": {},
   "outputs": [
    {
     "name": "stdout",
     "output_type": "stream",
     "text": [
      "True label: 0\n"
     ]
    },
    {
     "data": {
      "image/png": "[encoded data removed]",
      "text/plain": [
       "<Figure size 432x288 with 1 Axes>"
      ]
     },
     "metadata": {
      "needs_background": "light"
     },
     "output_type": "display_data"
    }
   ],
   "source": [
    "sample_number = 10\n",
    "X_train[sample_number, :, :, 0]\n",
    "plt.imshow(X_train[sample_number, :, :, 0], cmap='gist_gray')\n",
    "print(\"True label: {}\".format(np.argmax(Y_train[sample_number], axis=-1)))"
   ]
  },
  {
   "cell_type": "code",
   "execution_count": 32,
   "metadata": {},
   "outputs": [
    {
     "data": {
      "text/plain": [
       "(28, 28, 1)"
      ]
     },
     "execution_count": 32,
     "metadata": {},
     "output_type": "execute_result"
    }
   ],
   "source": [
    "X_train.shape[1:]"
   ]
  },
  {
   "cell_type": "markdown",
   "metadata": {},
   "source": [
    "# Bayesian CNN"
   ]
  },
  {
   "cell_type": "code",
   "execution_count": 33,
   "metadata": {},
   "outputs": [
    {
     "name": "stderr",
     "output_type": "stream",
     "text": [
      "/usr/local/lib/python3.7/site-packages/tensorflow/python/keras/engine/base_layer.py:2281: UserWarning: `layer.add_variable` is deprecated and will be removed in a future version. Please use `layer.add_weight` method instead.\n",
      "  warnings.warn('`layer.add_variable` is deprecated and '\n"
     ]
    }
   ],
   "source": [
    "model_in = tf.keras.layers.Input(shape=(28,28,1))\n",
    "\n",
    "conv_1 = tfp.python.layers.Convolution2DFlipout(32, kernel_size=(3, 3), padding=\"same\", strides=2)\n",
    "x = conv_1(model_in)\n",
    "x = tf.keras.layers.BatchNormalization()(x)\n",
    "x = tf.keras.layers.Activation('relu')(x)\n",
    "\n",
    "conv_2 = tfp.python.layers.Convolution2DFlipout(64, kernel_size=(3, 3), padding=\"same\", strides=2)\n",
    "x = conv_2(x)\n",
    "x = tf.keras.layers.BatchNormalization()(x)\n",
    "x = tf.keras.layers.Activation('relu')(x)\n",
    "x = tf.keras.layers.Flatten()(x)\n",
    "\n",
    "dense_1 = tfp.python.layers.DenseFlipout(100, activation='relu')\n",
    "x = dense_1(x)\n",
    "\n",
    "dense_2 = tfp.python.layers.DenseFlipout(10, activation=None)\n",
    "model_out = dense_2(x)  \n",
    "\n",
    "model = tf.keras.Model(model_in, model_out)"
   ]
  },
  {
   "cell_type": "code",
   "execution_count": 34,
   "metadata": {},
   "outputs": [
    {
     "name": "stdout",
     "output_type": "stream",
     "text": [
      "Model: \"model_1\"\n",
      "_________________________________________________________________\n",
      "Layer (type)                 Output Shape              Param #   \n",
      "=================================================================\n",
      "input_2 (InputLayer)         [(None, 28, 28, 1)]       0         \n",
      "_________________________________________________________________\n",
      "conv2d_flipout_2 (Conv2DFlip (None, 14, 14, 32)        608       \n",
      "_________________________________________________________________\n",
      "batch_normalization_2 (Batch (None, 14, 14, 32)        128       \n",
      "_________________________________________________________________\n",
      "activation_2 (Activation)    (None, 14, 14, 32)        0         \n",
      "_________________________________________________________________\n",
      "conv2d_flipout_3 (Conv2DFlip (None, 7, 7, 64)          36928     \n",
      "_________________________________________________________________\n",
      "batch_normalization_3 (Batch (None, 7, 7, 64)          256       \n",
      "_________________________________________________________________\n",
      "activation_3 (Activation)    (None, 7, 7, 64)          0         \n",
      "_________________________________________________________________\n",
      "flatten_1 (Flatten)          (None, 3136)              0         \n",
      "_________________________________________________________________\n",
      "dense_flipout_2 (DenseFlipou (None, 100)               627300    \n",
      "_________________________________________________________________\n",
      "dense_flipout_3 (DenseFlipou (None, 10)                2010      \n",
      "=================================================================\n",
      "Total params: 667,230\n",
      "Trainable params: 667,038\n",
      "Non-trainable params: 192\n",
      "_________________________________________________________________\n"
     ]
    }
   ],
   "source": [
    "model.summary()"
   ]
  },
  {
   "cell_type": "markdown",
   "metadata": {},
   "source": [
    "# Evidence lower bound loss function"
   ]
  },
  {
   "cell_type": "code",
   "execution_count": 35,
   "metadata": {},
   "outputs": [],
   "source": [
    "@tf.function\n",
    "def elbo_loss(labels, logits):\n",
    "    loss_en = tf.nn.softmax_cross_entropy_with_logits(labels, logits)\n",
    "    loss_kl = tf.keras.losses.KLD(labels, logits)\n",
    "    loss = tf.reduce_mean(tf.add(loss_en, loss_kl))\n",
    "    return loss"
   ]
  },
  {
   "cell_type": "code",
   "execution_count": 36,
   "metadata": {},
   "outputs": [],
   "source": [
    "@tf.function\n",
    "def train_step(images, labels):\n",
    "    with tf.GradientTape() as tape:\n",
    "        logits = model(X_train)\n",
    "        loss = elbo_loss(labels, logits)\n",
    "    gradients = tape.gradient(loss, model.trainable_variables)\n",
    "    optimizer.apply_gradients(zip(gradients, model.trainable_variables))\n",
    "    return loss\n",
    "\n",
    "def accuracy(preds, labels):\n",
    "    return np.mean(np.argmax(preds, axis=1) == np.argmax(labels, axis=1))"
   ]
  },
  {
   "cell_type": "code",
   "execution_count": 37,
   "metadata": {},
   "outputs": [],
   "source": [
    "optimizer = tf.keras.optimizers.Adam(lr=0.01)"
   ]
  },
  {
   "cell_type": "markdown",
   "metadata": {},
   "source": [
    "# Main training loop + Uncertainty at training\n",
    "To measure uncertainty at training, we measure the std dev of the loss of a testing set at the end of each epoch.  \n",
    "If the std dev goes down that means our model is getting less uncertain over time."
   ]
  },
  {
   "cell_type": "code",
   "execution_count": 38,
   "metadata": {},
   "outputs": [
    {
     "name": "stdout",
     "output_type": "stream",
     "text": [
      "Epoch: 0: loss =  10.499 , accuracy =   0.134, val_loss =   4.440, val_acc=  0.124 time:  18.497\n",
      "Epoch: 1: loss =   4.369 , accuracy =   0.150, val_loss =   3.276, val_acc=  0.155 time:  15.103\n",
      "Epoch: 2: loss =   3.193 , accuracy =   0.156, val_loss =   3.165, val_acc=  0.149 time:  16.130\n",
      "Epoch: 3: loss =   3.083 , accuracy =   0.194, val_loss =   2.632, val_acc=  0.196 time:  19.212\n",
      "Epoch: 4: loss =   2.625 , accuracy =   0.205, val_loss =   2.443, val_acc=  0.204 time:  14.931\n",
      "Epoch: 5: loss =   2.505 , accuracy =   0.260, val_loss =   2.151, val_acc=  0.255 time:  18.839\n",
      "Epoch: 6: loss =   2.105 , accuracy =   0.366, val_loss =   1.882, val_acc=  0.367 time:  18.884\n",
      "Epoch: 7: loss =   1.872 , accuracy =   0.465, val_loss =   1.713, val_acc=  0.476 time:  17.650\n",
      "Epoch: 8: loss =   1.712 , accuracy =   0.508, val_loss =   1.601, val_acc=  0.487 time:  19.486\n",
      "Epoch: 9: loss =   1.581 , accuracy =   0.552, val_loss =   1.466, val_acc=  0.534 time:  20.005\n",
      "Epoch: 10: loss =   1.471 , accuracy =   0.607, val_loss =   1.280, val_acc=  0.588 time:  19.522\n",
      "Epoch: 11: loss =   1.290 , accuracy =   0.649, val_loss =   1.102, val_acc=  0.643 time:  19.180\n",
      "Epoch: 12: loss =   1.089 , accuracy =   0.674, val_loss =   0.968, val_acc=  0.680 time:  19.001\n",
      "Epoch: 13: loss =   0.946 , accuracy =   0.700, val_loss =   0.899, val_acc=  0.696 time:  18.559\n",
      "Epoch: 14: loss =   0.868 , accuracy =   0.734, val_loss =   0.873, val_acc=  0.710 time:  18.005\n",
      "Epoch: 15: loss =   0.763 , accuracy =   0.758, val_loss =   0.833, val_acc=  0.734 time:  16.979\n",
      "Epoch: 16: loss =   0.745 , accuracy =   0.794, val_loss =   0.735, val_acc=  0.776 time:  16.318\n",
      "Epoch: 17: loss =   0.729 , accuracy =   0.809, val_loss =   0.695, val_acc=  0.791 time:  15.349\n",
      "Epoch: 18: loss =   0.625 , accuracy =   0.807, val_loss =   0.651, val_acc=  0.804 time:  18.417\n",
      "Epoch: 19: loss =   0.578 , accuracy =   0.835, val_loss =   0.598, val_acc=  0.817 time:  19.514\n",
      "Epoch: 20: loss =   0.543 , accuracy =   0.840, val_loss =   0.567, val_acc=  0.829 time:  20.013\n",
      "Epoch: 21: loss =   0.529 , accuracy =   0.858, val_loss =   0.512, val_acc=  0.843 time:  18.742\n",
      "Epoch: 22: loss =   0.447 , accuracy =   0.870, val_loss =   0.483, val_acc=  0.849 time:  21.707\n",
      "Epoch: 23: loss =   0.428 , accuracy =   0.875, val_loss =   0.464, val_acc=  0.856 time:  21.876\n",
      "Epoch: 24: loss =   0.394 , accuracy =   0.886, val_loss =   0.442, val_acc=  0.868 time:  26.518\n",
      "Epoch: 25: loss =   0.372 , accuracy =   0.889, val_loss =   0.420, val_acc=  0.873 time:  21.587\n",
      "Epoch: 26: loss =   0.357 , accuracy =   0.894, val_loss =   0.398, val_acc=  0.881 time:  17.281\n",
      "Epoch: 27: loss =   0.355 , accuracy =   0.903, val_loss =   0.393, val_acc=  0.882 time:  18.763\n",
      "Epoch: 28: loss =   0.324 , accuracy =   0.905, val_loss =   0.370, val_acc=  0.889 time:  18.359\n",
      "Epoch: 29: loss =   0.309 , accuracy =   0.906, val_loss =   0.364, val_acc=  0.890 time:  18.497\n",
      "Epoch: 30: loss =   0.296 , accuracy =   0.917, val_loss =   0.365, val_acc=  0.890 time:  19.596\n",
      "Epoch: 31: loss =   0.276 , accuracy =   0.917, val_loss =   0.340, val_acc=  0.899 time:  20.245\n",
      "Epoch: 32: loss =   0.259 , accuracy =   0.924, val_loss =   0.331, val_acc=  0.901 time:  19.085\n",
      "Epoch: 33: loss =   0.245 , accuracy =   0.924, val_loss =   0.330, val_acc=  0.901 time:  21.346\n",
      "Epoch: 34: loss =   0.239 , accuracy =   0.931, val_loss =   0.327, val_acc=  0.905 time:  19.680\n",
      "Epoch: 35: loss =   0.229 , accuracy =   0.933, val_loss =   0.311, val_acc=  0.908 time:  21.240\n",
      "Epoch: 36: loss =   0.206 , accuracy =   0.938, val_loss =   0.307, val_acc=  0.911 time:  16.720\n",
      "Epoch: 37: loss =   0.199 , accuracy =   0.940, val_loss =   0.301, val_acc=  0.914 time:  19.706\n",
      "Epoch: 38: loss =   0.197 , accuracy =   0.947, val_loss =   0.299, val_acc=  0.914 time:  17.922\n",
      "Epoch: 39: loss =   0.182 , accuracy =   0.945, val_loss =   0.289, val_acc=  0.917 time:  18.097\n"
     ]
    }
   ],
   "source": [
    "epochs = 40\n",
    "\n",
    "times = [] # Stores how much time each training loop took\n",
    "accs = [] # Stores training accuracy at every epoch\n",
    "val_accs = [] # Stores validation accuracy at every epoch\n",
    "losses = [] # loss per epoch\n",
    "val_losses = [] # val_loss per epoch\n",
    "\n",
    "y_pred_list_0 = {} # stores the std dev of loss per epoch (key is epoch, value is std dev of 10 loss vals)\n",
    "\n",
    "for i in range(epochs):\n",
    "    tic = time.time()\n",
    "    loss = train_step(X_train, Y_train)\n",
    "    preds = model(X_train)\n",
    "    acc = accuracy(preds, Y_train)\n",
    "    accs.append(acc)\n",
    "    losses.append(loss)\n",
    "    \n",
    "    val_preds = model(X_val)\n",
    "    val_loss = elbo_loss(Y_val, val_preds)\n",
    "    val_acc = accuracy(Y_val, val_preds)\n",
    "    \n",
    "    val_accs.append(val_acc)\n",
    "    val_losses.append(val_loss)\n",
    "    \n",
    "    \n",
    "    loss_temp = [] # Stores the loss of 10 mc predictions over the testing set\n",
    "    for j in range(10):\n",
    "        y_pred = model.predict(X_test)\n",
    "        loss_temp.append(elbo_loss(Y_test,y_pred))\n",
    "        \n",
    "    # Get std dev of losses and store it \n",
    "    y_sigma = np.std(loss_temp)\n",
    "    y_pred_list_0[i] = y_sigma\n",
    "\n",
    "    tac = time.time()\n",
    "    train_time = tac-tic\n",
    "    times.append(train_time)\n",
    "    \n",
    "    print(\"Epoch: {}: loss = {:7.3f} , accuracy = {:7.3f}, val_loss = {:7.3f}, val_acc={:7.3f} time: {:7.3f}\".format(i, loss, acc, val_loss, val_acc, train_time))"
   ]
  },
  {
   "cell_type": "code",
   "execution_count": 39,
   "metadata": {},
   "outputs": [
    {
     "data": {
      "image/png": "[encoded data removed]",
      "text/plain": [
       "<Figure size 432x288 with 1 Axes>"
      ]
     },
     "metadata": {
      "needs_background": "light"
     },
     "output_type": "display_data"
    },
    {
     "data": {
      "image/png": "[encoded data removed]",
      "text/plain": [
       "<Figure size 432x288 with 1 Axes>"
      ]
     },
     "metadata": {
      "needs_background": "light"
     },
     "output_type": "display_data"
    }
   ],
   "source": [
    "plt.plot(np.array(accs), label=\"acc\")\n",
    "plt.plot(np.array(val_accs), label=\"val_acc\")\n",
    "plt.title('Model accuracy')\n",
    "plt.ylabel('Accuracy')\n",
    "plt.xlabel('Epoch')\n",
    "plt.show()\n",
    "\n",
    "plt.plot(np.array(losses), label=\"loss\")\n",
    "plt.plot(np.array(val_losses), label=\"val_loss\")\n",
    "plt.title('Model loss')\n",
    "plt.ylabel('Loss')\n",
    "plt.xlabel('Epoch')\n",
    "plt.legend(['Train', 'Test'], loc='upper left')\n",
    "plt.show()"
   ]
  },
  {
   "cell_type": "markdown",
   "metadata": {},
   "source": [
    "# Plot training uncertainty\n",
    "Loop over each epoch and plot the std dev (of the 10 losses) recorded.  \n",
    "If curve is increasing then the model is getting highly uncertain over epochs.  \n",
    "If curve is decreasing then the model is getting less uncertain over epochs.  \n",
    "If curve stays the same then the model is probably not improving, might be a good sign or a bad sign depending on the model accuracy etc.."
   ]
  },
  {
   "cell_type": "code",
   "execution_count": 40,
   "metadata": {},
   "outputs": [
    {
     "name": "stdout",
     "output_type": "stream",
     "text": [
      "0.048265815\n",
      "0.022173986\n",
      "0.027799655\n",
      "0.012545636\n",
      "0.020660583\n",
      "0.010300432\n",
      "0.010840398\n",
      "0.005306246\n",
      "0.00633142\n",
      "0.009196009\n",
      "0.0059717097\n",
      "0.0040673395\n",
      "0.006441407\n",
      "0.015308632\n",
      "0.012539041\n",
      "0.0141427545\n",
      "0.008119058\n",
      "0.010637057\n",
      "0.0085798465\n",
      "0.010544344\n",
      "0.008064827\n",
      "0.0063860314\n",
      "0.008717332\n",
      "0.0058523347\n",
      "0.008628605\n",
      "0.0091393385\n",
      "0.006519063\n",
      "0.0063053523\n",
      "0.005720122\n",
      "0.0049735103\n",
      "0.0076960973\n",
      "0.0075257146\n",
      "0.007317399\n",
      "0.005233287\n",
      "0.0060562934\n",
      "0.0042171916\n",
      "0.005943079\n",
      "0.008257095\n",
      "0.0075333915\n",
      "0.007940082\n"
     ]
    },
    {
     "data": {
      "text/plain": [
       "<Figure size 432x288 with 0 Axes>"
      ]
     },
     "metadata": {},
     "output_type": "display_data"
    },
    {
     "data": {
      "image/png": "[encoded data removed]",
      "text/plain": [
       "<Figure size 400x240 with 1 Axes>"
      ]
     },
     "metadata": {
      "needs_background": "light"
     },
     "output_type": "display_data"
    }
   ],
   "source": [
    "from matplotlib.pyplot import figure\n",
    "\n",
    "\n",
    "fig = plt.figure()\n",
    "figure(figsize=(5, 3), dpi=80)\n",
    "fig.subplots_adjust(hspace=1.9, wspace=1.9)\n",
    "\n",
    "vals = []\n",
    "for i in range(epochs):\n",
    "        print(np.array(y_pred_list_0[i]))\n",
    "        vals.append(np.array(y_pred_list_0[i]))\n",
    "    \n",
    "t = np.linspace(0,nb_epochs-1,nb_epochs)\n",
    "plt.plot(t, vals, 'b-', label='test-loss (10 MC) std dev')\n",
    "plt.tight_layout()\n",
    "\n",
    "    \n",
    "plt.legend()\n",
    "plt.show()    "
   ]
  },
  {
   "cell_type": "markdown",
   "metadata": {},
   "source": [
    "## Uncertainty at Inference\n",
    "For each testing sample perform inference *mc_samples* times.\n",
    "At each inference record the predicted classes. Finally, plot the density of the predicted classes to check whether the model is consistently predicting the correct class"
   ]
  },
  {
   "cell_type": "code",
   "execution_count": 41,
   "metadata": {},
   "outputs": [
    {
     "name": "stdout",
     "output_type": "stream",
     "text": [
      "Label: 6\n"
     ]
    },
    {
     "data": {
      "image/png": "[encoded data removed]",
      "text/plain": [
       "<Figure size 432x288 with 1 Axes>"
      ]
     },
     "metadata": {
      "needs_background": "light"
     },
     "output_type": "display_data"
    }
   ],
   "source": [
    "# Test random image\n",
    "img_index = 15\n",
    "test_image = X_val[img_index, :, :, 0] # Get image data\n",
    "label = Y_val[img_index] # Get image label\n",
    "\n",
    "# Plot\n",
    "plt.imshow(test_image, cmap='gist_gray')\n",
    "print(\"Label: {}\".format(np.argmax(label), axis=-1))"
   ]
  },
  {
   "cell_type": "code",
   "execution_count": 42,
   "metadata": {},
   "outputs": [],
   "source": [
    "# Inference\n",
    "mc_samples = 20 # Perform inference *mc_samples* times\n",
    "thresh = 0.2 # Threshold to indicate that the right class has been chosen.\n",
    "\n",
    "# If a given number (column) has the probability to be guessed by the model (more than the threshold)\n",
    "# Then it is flagged as a possible result\n",
    "\n",
    "# For each inference record the output classes probas\n",
    "preds = [model(X_val[img_index:img_index+1, :, :, :]) for _ in range(mc_samples)]\n",
    "# Perform softmax and concatenate results over columns (or in other term, group results per label)\n",
    "preds = np.concatenate([tf.nn.softmax(y, axis = -1)[:, :, np.newaxis] for y in preds], axis=-1)\n",
    "# Get the probability of each label being activated\n",
    "prob_of_nums = [[np.sum(y)/mc_samples for y in pred_row] for pred_row in preds]\n",
    "# Record the average probability per label\n",
    "preds = [[int((np.sum(y)/mc_samples) >= thresh) for y in pred_row] for pred_row in preds]\n",
    "preds = np.array(preds)"
   ]
  },
  {
   "cell_type": "code",
   "execution_count": 43,
   "metadata": {},
   "outputs": [
    {
     "data": {
      "image/png": "[encoded data removed]",
      "text/plain": [
       "<Figure size 432x288 with 1 Axes>"
      ]
     },
     "metadata": {
      "needs_background": "light"
     },
     "output_type": "display_data"
    }
   ],
   "source": [
    "# Plot probabilities of each label\n",
    "x = np.arange(10)\n",
    "plt.bar(x, prob_of_nums[0], align='center')\n",
    "plt.xticks(x)\n",
    "plt.xlabel(\"Numbers\")\n",
    "plt.ylabel('Probability')\n",
    "plt.title('Model output probas')\n",
    "plt.show()"
   ]
  },
  {
   "cell_type": "markdown",
   "metadata": {},
   "source": [
    "# Noise example"
   ]
  },
  {
   "cell_type": "code",
   "execution_count": 45,
   "metadata": {},
   "outputs": [
    {
     "data": {
      "text/plain": [
       "<matplotlib.image.AxesImage at 0x160ea4710>"
      ]
     },
     "execution_count": 45,
     "metadata": {},
     "output_type": "execute_result"
    },
    {
     "data": {
      "image/png": "[encoded data removed]",
      "text/plain": [
       "<Figure size 432x288 with 1 Axes>"
      ]
     },
     "metadata": {
      "needs_background": "light"
     },
     "output_type": "display_data"
    }
   ],
   "source": [
    "# Noise\n",
    "noise = np.random.random((28,28,1))\n",
    "plt.imshow(noise[:, :, 0], cmap='gist_gray')"
   ]
  },
  {
   "cell_type": "code",
   "execution_count": 49,
   "metadata": {},
   "outputs": [],
   "source": [
    "# Inference\n",
    "mc_samples = 10\n",
    "med_thresh = 0.2\n",
    "\n",
    "preds = [model(np.array([noise])) for _ in range(mc_samples)]\n",
    "preds = np.concatenate([tf.nn.softmax(y, axis = -1)[:, :, np.newaxis] for y in preds], axis=-1)\n",
    "prob_of_nums = [[np.sum(y)/mc_samples for y in pred_row] for pred_row in preds]\n",
    "preds = [[int((np.sum(y)/mc_samples) >= med_thresh) for y in pred_row] for pred_row in preds]\n",
    "preds = np.array(preds)"
   ]
  },
  {
   "cell_type": "code",
   "execution_count": 50,
   "metadata": {},
   "outputs": [
    {
     "data": {
      "image/png": "[encoded data removed]",
      "text/plain": [
       "<Figure size 432x288 with 1 Axes>"
      ]
     },
     "metadata": {
      "needs_background": "light"
     },
     "output_type": "display_data"
    }
   ],
   "source": [
    "x = np.arange(10)\n",
    "plt.bar(x, prob_of_nums[0], align='center')\n",
    "plt.xticks(x)\n",
    "plt.xlabel(\"Numbers\")\n",
    "plt.ylabel('Probability')\n",
    "plt.title('Model output probas')\n",
    "plt.show()"
   ]
  },
  {
   "cell_type": "code",
   "execution_count": 52,
   "metadata": {},
   "outputs": [
    {
     "name": "stdout",
     "output_type": "stream",
     "text": [
      "The model is confused between \n",
      "3\n",
      "8\n"
     ]
    }
   ],
   "source": [
    "value_counts = np.bincount(preds.flatten())\n",
    "nb_zeros = value_counts[0]\n",
    "nb_ones = value_counts[1]\n",
    "if nb_outputs == nb_zeros:\n",
    "    print(\"Model doesn't know \")\n",
    "else:\n",
    "    indeces = np.where(preds[0] == 1)[0]\n",
    "    if nb_ones == 1:\n",
    "        print(\"The model thinks the number is {}\".format(indeces[0]))\n",
    "    elif nb_ones > 1:\n",
    "        print(\"The model is confused between \")\n",
    "        [print(i) for i in indeces]"
   ]
  },
  {
   "cell_type": "markdown",
   "metadata": {},
   "source": [
    "# Frequentist CNN"
   ]
  },
  {
   "cell_type": "code",
   "execution_count": 51,
   "metadata": {},
   "outputs": [],
   "source": [
    "model = tf.keras.models.Sequential()\n",
    "model.add(tf.keras.layers.Conv2D(32, kernel_size=(5, 5),\n",
    "                 activation='relu',\n",
    "                 input_shape=(256,256,1)))\n",
    "model.add(tf.keras.layers.MaxPooling2D(pool_size=(2, 2)))\n",
    "\n",
    "model.add(tf.keras.layers.Conv2D(64, (3, 3), activation='relu'))\n",
    "model.add(tf.keras.layers.MaxPooling2D(pool_size=(2, 2)))\n",
    "\n",
    "model.add(tf.keras.layers.Conv2D(128, (3, 3), activation='relu'))\n",
    "model.add(tf.keras.layers.MaxPooling2D(pool_size=(2, 2)))\n",
    "\n",
    "model.add(tf.keras.layers.Flatten())\n",
    "\n",
    "model.add(tf.keras.layers.Dense(500, activation='relu'))\n",
    "model.add(tf.keras.layers.Dropout(0.2))\n",
    "\n",
    "model.add(tf.keras.layers.Dense(500, activation='relu'))\n",
    "model.add(tf.keras.layers.Dropout(0.2))\n",
    "\n",
    "model.add(tf.keras.layers.Dense(10, activation='softmax'))"
   ]
  },
  {
   "cell_type": "code",
   "execution_count": 52,
   "metadata": {
    "scrolled": true
   },
   "outputs": [
    {
     "name": "stdout",
     "output_type": "stream",
     "text": [
      "Model: \"sequential\"\n",
      "_________________________________________________________________\n",
      "Layer (type)                 Output Shape              Param #   \n",
      "=================================================================\n",
      "conv2d (Conv2D)              (None, 252, 252, 32)      832       \n",
      "_________________________________________________________________\n",
      "max_pooling2d (MaxPooling2D) (None, 126, 126, 32)      0         \n",
      "_________________________________________________________________\n",
      "conv2d_1 (Conv2D)            (None, 124, 124, 64)      18496     \n",
      "_________________________________________________________________\n",
      "max_pooling2d_1 (MaxPooling2 (None, 62, 62, 64)        0         \n",
      "_________________________________________________________________\n",
      "conv2d_2 (Conv2D)            (None, 60, 60, 128)       73856     \n",
      "_________________________________________________________________\n",
      "max_pooling2d_2 (MaxPooling2 (None, 30, 30, 128)       0         \n",
      "_________________________________________________________________\n",
      "flatten_1 (Flatten)          (None, 115200)            0         \n",
      "_________________________________________________________________\n",
      "dense (Dense)                (None, 500)               57600500  \n",
      "_________________________________________________________________\n",
      "dropout (Dropout)            (None, 500)               0         \n",
      "_________________________________________________________________\n",
      "dense_1 (Dense)              (None, 500)               250500    \n",
      "_________________________________________________________________\n",
      "dropout_1 (Dropout)          (None, 500)               0         \n",
      "_________________________________________________________________\n",
      "dense_2 (Dense)              (None, 10)                5010      \n",
      "=================================================================\n",
      "Total params: 57,949,194\n",
      "Trainable params: 57,949,194\n",
      "Non-trainable params: 0\n",
      "_________________________________________________________________\n"
     ]
    }
   ],
   "source": [
    "model.summary()"
   ]
  },
  {
   "cell_type": "code",
   "execution_count": 53,
   "metadata": {},
   "outputs": [],
   "source": [
    "model = tf.keras.models.Sequential()\n",
    "model.add(tf.keras.layers.Conv2D(32, kernel_size=(3, 3),\n",
    "                 activation='relu',\n",
    "                 input_shape=(28,28,1)))\n",
    "model.add(tf.keras.layers.Conv2D(64, (3, 3), activation='relu'))\n",
    "model.add(tf.keras.layers.MaxPooling2D(pool_size=(2, 2)))\n",
    "model.add(tf.keras.layers.Dropout(0.25))\n",
    "model.add(tf.keras.layers.Flatten())\n",
    "model.add(tf.keras.layers.Dense(128, activation='relu'))\n",
    "model.add(tf.keras.layers.Dropout(0.5))\n",
    "model.add(tf.keras.layers.Dense(10, activation='softmax'))"
   ]
  },
  {
   "cell_type": "code",
   "execution_count": 54,
   "metadata": {},
   "outputs": [
    {
     "name": "stdout",
     "output_type": "stream",
     "text": [
      "Model: \"sequential_1\"\n",
      "_________________________________________________________________\n",
      "Layer (type)                 Output Shape              Param #   \n",
      "=================================================================\n",
      "conv2d_3 (Conv2D)            (None, 26, 26, 32)        320       \n",
      "_________________________________________________________________\n",
      "conv2d_4 (Conv2D)            (None, 24, 24, 64)        18496     \n",
      "_________________________________________________________________\n",
      "max_pooling2d_3 (MaxPooling2 (None, 12, 12, 64)        0         \n",
      "_________________________________________________________________\n",
      "dropout_2 (Dropout)          (None, 12, 12, 64)        0         \n",
      "_________________________________________________________________\n",
      "flatten_2 (Flatten)          (None, 9216)              0         \n",
      "_________________________________________________________________\n",
      "dense_3 (Dense)              (None, 128)               1179776   \n",
      "_________________________________________________________________\n",
      "dropout_3 (Dropout)          (None, 128)               0         \n",
      "_________________________________________________________________\n",
      "dense_4 (Dense)              (None, 10)                1290      \n",
      "=================================================================\n",
      "Total params: 1,199,882\n",
      "Trainable params: 1,199,882\n",
      "Non-trainable params: 0\n",
      "_________________________________________________________________\n"
     ]
    }
   ],
   "source": [
    "model.summary()"
   ]
  },
  {
   "cell_type": "code",
   "execution_count": 55,
   "metadata": {},
   "outputs": [],
   "source": [
    "optimizer = tf.keras.optimizers.Adam(lr=0.01)\n",
    "model.compile(loss=tf.keras.losses.categorical_crossentropy,\n",
    "              metrics=['accuracy'], optimizer=optimizer)"
   ]
  },
  {
   "cell_type": "code",
   "execution_count": 37,
   "metadata": {},
   "outputs": [
    {
     "name": "stdout",
     "output_type": "stream",
     "text": [
      "Epoch 1/10\n",
      "178/178 [==============================] - 7s 39ms/step - loss: 1.2159 - accuracy: 0.6288 - val_loss: 0.1898 - val_accuracy: 0.9381\n",
      "Epoch 2/10\n",
      "178/178 [==============================] - 7s 37ms/step - loss: 0.2876 - accuracy: 0.9124 - val_loss: 0.1089 - val_accuracy: 0.9603\n",
      "Epoch 3/10\n",
      "178/178 [==============================] - 7s 37ms/step - loss: 0.2377 - accuracy: 0.9276 - val_loss: 0.0671 - val_accuracy: 0.9778\n",
      "Epoch 4/10\n",
      "178/178 [==============================] - 7s 37ms/step - loss: 0.1882 - accuracy: 0.9398 - val_loss: 0.0787 - val_accuracy: 0.9762\n",
      "Epoch 5/10\n",
      "178/178 [==============================] - 7s 39ms/step - loss: 0.1699 - accuracy: 0.9451 - val_loss: 0.0899 - val_accuracy: 0.9762\n",
      "Epoch 6/10\n",
      "178/178 [==============================] - 7s 41ms/step - loss: 0.1568 - accuracy: 0.9541 - val_loss: 0.0719 - val_accuracy: 0.9778\n",
      "Epoch 7/10\n",
      "178/178 [==============================] - 8s 45ms/step - loss: 0.1655 - accuracy: 0.9517 - val_loss: 0.0633 - val_accuracy: 0.9810\n",
      "Epoch 8/10\n",
      "178/178 [==============================] - 8s 44ms/step - loss: 0.1322 - accuracy: 0.9564 - val_loss: 0.0787 - val_accuracy: 0.9730\n",
      "Epoch 9/10\n",
      "178/178 [==============================] - 8s 43ms/step - loss: 0.1462 - accuracy: 0.9516 - val_loss: 0.0929 - val_accuracy: 0.9762\n",
      "Epoch 10/10\n",
      "178/178 [==============================] - 8s 43ms/step - loss: 0.1597 - accuracy: 0.9530 - val_loss: 0.0631 - val_accuracy: 0.9841\n"
     ]
    }
   ],
   "source": [
    "history = model.fit(X_train, Y_train, epochs=10, validation_split=0.1)"
   ]
  },
  {
   "cell_type": "code",
   "execution_count": 38,
   "metadata": {},
   "outputs": [
    {
     "data": {
      "image/png": "[encoded data removed]",
      "text/plain": [
       "<Figure size 432x288 with 1 Axes>"
      ]
     },
     "metadata": {
      "needs_background": "light"
     },
     "output_type": "display_data"
    },
    {
     "data": {
      "image/png": "[encoded data removed]",
      "text/plain": [
       "<Figure size 432x288 with 1 Axes>"
      ]
     },
     "metadata": {
      "needs_background": "light"
     },
     "output_type": "display_data"
    }
   ],
   "source": [
    "plt.plot(history.history['accuracy'])\n",
    "plt.plot(history.history['val_accuracy'])\n",
    "plt.title('Model accuracy')\n",
    "plt.ylabel('Accuracy')\n",
    "plt.xlabel('Epoch')\n",
    "plt.legend(['Train', 'Test'], loc='upper left')\n",
    "plt.show()\n",
    "\n",
    "plt.plot(history.history['loss'])\n",
    "plt.plot(history.history['val_loss'])\n",
    "plt.title('Model loss')\n",
    "plt.ylabel('Loss')\n",
    "plt.xlabel('Epoch')\n",
    "plt.legend(['Train', 'Test'], loc='upper left')\n",
    "plt.show()"
   ]
  },
  {
   "cell_type": "code",
   "execution_count": 39,
   "metadata": {},
   "outputs": [
    {
     "name": "stdout",
     "output_type": "stream",
     "text": [
      "1116/1116 [==============================] - 6s 6ms/step - loss: 0.1239 - accuracy: 0.9673\n",
      "[0.12389473617076874, 0.9672828912734985]\n"
     ]
    }
   ],
   "source": [
    "evaluation = model.evaluate(X_val, Y_val, verbose=1)\n",
    "print(evaluation)"
   ]
  },
  {
   "cell_type": "code",
   "execution_count": 40,
   "metadata": {},
   "outputs": [],
   "source": [
    "# Prediction for 1 image\n",
    "sample_nb = 2\n",
    "output = model(X_train[sample_nb:sample_nb+1, :, :, :])"
   ]
  },
  {
   "cell_type": "code",
   "execution_count": 41,
   "metadata": {},
   "outputs": [
    {
     "name": "stdout",
     "output_type": "stream",
     "text": [
      "Predicted label: 1\n"
     ]
    },
    {
     "data": {
      "image/png": "[encoded data removed]",
      "text/plain": [
       "<Figure size 432x288 with 1 Axes>"
      ]
     },
     "metadata": {
      "needs_background": "light"
     },
     "output_type": "display_data"
    }
   ],
   "source": [
    "plt.imshow(X_train[sample_nb, :, :, 0], cmap='gist_gray')\n",
    "print(\"Predicted label: {}\".format(np.argmax(output[0]), axis=-1))"
   ]
  },
  {
   "cell_type": "code",
   "execution_count": 42,
   "metadata": {
    "scrolled": true
   },
   "outputs": [
    {
     "name": "stdout",
     "output_type": "stream",
     "text": [
      "Predicted label: 8\n"
     ]
    },
    {
     "data": {
      "image/png": "[encoded data removed]",
      "text/plain": [
       "<Figure size 432x288 with 1 Axes>"
      ]
     },
     "metadata": {
      "needs_background": "light"
     },
     "output_type": "display_data"
    }
   ],
   "source": [
    "# Noise\n",
    "noise = np.random.random((28,28,1))\n",
    "pred_for_noise = model(np.array([noise]))\n",
    "plt.imshow(noise[:, :, 0], cmap='gist_gray')\n",
    "print(\"Predicted label: {}\".format(np.argmax(pred_for_noise[0]), axis=-1))"
   ]
  }
 ],
 "metadata": {
  "kernelspec": {
   "display_name": "Python 3",
   "language": "python",
   "name": "python3"
  },
  "language_info": {
   "codemirror_mode": {
    "name": "ipython",
    "version": 3
   },
   "file_extension": ".py",
   "mimetype": "text/x-python",
   "name": "python",
   "nbconvert_exporter": "python",
   "pygments_lexer": "ipython3",
   "version": "3.7.1"
  }
 },
 "nbformat": 4,
 "nbformat_minor": 2
}
